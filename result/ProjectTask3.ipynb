{
  "nbformat": 4,
  "nbformat_minor": 0,
  "metadata": {
    "colab": {
      "name": "ProjectTask3.ipynb",
      "provenance": [],
      "collapsed_sections": [],
      "toc_visible": true
    },
    "kernelspec": {
      "name": "python3",
      "display_name": "Python 3"
    },
    "language_info": {
      "name": "python"
    }
  },
  "cells": [
    {
      "cell_type": "code",
      "metadata": {
        "colab": {
          "base_uri": "https://localhost:8080/"
        },
        "id": "djtp6TcpuTn3",
        "outputId": "860b71f2-7e6b-4b7a-9093-25efb0e33283"
      },
      "source": [
        "pip install lime"
      ],
      "execution_count": 1,
      "outputs": [
        {
          "output_type": "stream",
          "text": [
            "Collecting lime\n",
            "\u001b[?25l  Downloading https://files.pythonhosted.org/packages/f5/86/91a13127d83d793ecb50eb75e716f76e6eda809b6803c5a4ff462339789e/lime-0.2.0.1.tar.gz (275kB)\n",
            "\r\u001b[K     |█▏                              | 10kB 14.4MB/s eta 0:00:01\r\u001b[K     |██▍                             | 20kB 14.6MB/s eta 0:00:01\r\u001b[K     |███▋                            | 30kB 13.0MB/s eta 0:00:01\r\u001b[K     |████▊                           | 40kB 9.4MB/s eta 0:00:01\r\u001b[K     |██████                          | 51kB 4.6MB/s eta 0:00:01\r\u001b[K     |███████▏                        | 61kB 5.3MB/s eta 0:00:01\r\u001b[K     |████████▎                       | 71kB 5.5MB/s eta 0:00:01\r\u001b[K     |█████████▌                      | 81kB 5.7MB/s eta 0:00:01\r\u001b[K     |██████████▊                     | 92kB 6.3MB/s eta 0:00:01\r\u001b[K     |███████████▉                    | 102kB 4.5MB/s eta 0:00:01\r\u001b[K     |█████████████                   | 112kB 4.5MB/s eta 0:00:01\r\u001b[K     |██████████████▎                 | 122kB 4.5MB/s eta 0:00:01\r\u001b[K     |███████████████▌                | 133kB 4.5MB/s eta 0:00:01\r\u001b[K     |████████████████▋               | 143kB 4.5MB/s eta 0:00:01\r\u001b[K     |█████████████████▉              | 153kB 4.5MB/s eta 0:00:01\r\u001b[K     |███████████████████             | 163kB 4.5MB/s eta 0:00:01\r\u001b[K     |████████████████████▏           | 174kB 4.5MB/s eta 0:00:01\r\u001b[K     |█████████████████████▍          | 184kB 4.5MB/s eta 0:00:01\r\u001b[K     |██████████████████████▋         | 194kB 4.5MB/s eta 0:00:01\r\u001b[K     |███████████████████████▊        | 204kB 4.5MB/s eta 0:00:01\r\u001b[K     |█████████████████████████       | 215kB 4.5MB/s eta 0:00:01\r\u001b[K     |██████████████████████████▏     | 225kB 4.5MB/s eta 0:00:01\r\u001b[K     |███████████████████████████▍    | 235kB 4.5MB/s eta 0:00:01\r\u001b[K     |████████████████████████████▌   | 245kB 4.5MB/s eta 0:00:01\r\u001b[K     |█████████████████████████████▊  | 256kB 4.5MB/s eta 0:00:01\r\u001b[K     |███████████████████████████████ | 266kB 4.5MB/s eta 0:00:01\r\u001b[K     |████████████████████████████████| 276kB 4.5MB/s \n",
            "\u001b[?25hRequirement already satisfied: matplotlib in /usr/local/lib/python3.7/dist-packages (from lime) (3.2.2)\n",
            "Requirement already satisfied: numpy in /usr/local/lib/python3.7/dist-packages (from lime) (1.19.5)\n",
            "Requirement already satisfied: scipy in /usr/local/lib/python3.7/dist-packages (from lime) (1.4.1)\n",
            "Requirement already satisfied: tqdm in /usr/local/lib/python3.7/dist-packages (from lime) (4.41.1)\n",
            "Requirement already satisfied: scikit-learn>=0.18 in /usr/local/lib/python3.7/dist-packages (from lime) (0.22.2.post1)\n",
            "Requirement already satisfied: scikit-image>=0.12 in /usr/local/lib/python3.7/dist-packages (from lime) (0.16.2)\n",
            "Requirement already satisfied: pyparsing!=2.0.4,!=2.1.2,!=2.1.6,>=2.0.1 in /usr/local/lib/python3.7/dist-packages (from matplotlib->lime) (2.4.7)\n",
            "Requirement already satisfied: python-dateutil>=2.1 in /usr/local/lib/python3.7/dist-packages (from matplotlib->lime) (2.8.1)\n",
            "Requirement already satisfied: cycler>=0.10 in /usr/local/lib/python3.7/dist-packages (from matplotlib->lime) (0.10.0)\n",
            "Requirement already satisfied: kiwisolver>=1.0.1 in /usr/local/lib/python3.7/dist-packages (from matplotlib->lime) (1.3.1)\n",
            "Requirement already satisfied: joblib>=0.11 in /usr/local/lib/python3.7/dist-packages (from scikit-learn>=0.18->lime) (1.0.1)\n",
            "Requirement already satisfied: PyWavelets>=0.4.0 in /usr/local/lib/python3.7/dist-packages (from scikit-image>=0.12->lime) (1.1.1)\n",
            "Requirement already satisfied: pillow>=4.3.0 in /usr/local/lib/python3.7/dist-packages (from scikit-image>=0.12->lime) (7.1.2)\n",
            "Requirement already satisfied: imageio>=2.3.0 in /usr/local/lib/python3.7/dist-packages (from scikit-image>=0.12->lime) (2.4.1)\n",
            "Requirement already satisfied: networkx>=2.0 in /usr/local/lib/python3.7/dist-packages (from scikit-image>=0.12->lime) (2.5.1)\n",
            "Requirement already satisfied: six>=1.5 in /usr/local/lib/python3.7/dist-packages (from python-dateutil>=2.1->matplotlib->lime) (1.15.0)\n",
            "Requirement already satisfied: decorator<5,>=4.3 in /usr/local/lib/python3.7/dist-packages (from networkx>=2.0->scikit-image>=0.12->lime) (4.4.2)\n",
            "Building wheels for collected packages: lime\n",
            "  Building wheel for lime (setup.py) ... \u001b[?25l\u001b[?25hdone\n",
            "  Created wheel for lime: filename=lime-0.2.0.1-cp37-none-any.whl size=283846 sha256=87c31ae8959e732482fc1bc5978bea97e5f36189278bdf86134330a0106713fe\n",
            "  Stored in directory: /root/.cache/pip/wheels/4c/4f/a5/0bc765457bd41378bf3ce8d17d7495369d6e7ca3b712c60c89\n",
            "Successfully built lime\n",
            "Installing collected packages: lime\n",
            "Successfully installed lime-0.2.0.1\n"
          ],
          "name": "stdout"
        }
      ]
    },
    {
      "cell_type": "code",
      "metadata": {
        "colab": {
          "base_uri": "https://localhost:8080/"
        },
        "id": "K56Aj6FXZ_5A",
        "outputId": "ee089732-7a5f-4f77-8704-e45a586babd3"
      },
      "source": [
        "from google.colab import drive\n",
        "drive.mount('/content/gdrive')"
      ],
      "execution_count": 6,
      "outputs": [
        {
          "output_type": "stream",
          "text": [
            "Mounted at /content/gdrive\n"
          ],
          "name": "stdout"
        }
      ]
    },
    {
      "cell_type": "code",
      "metadata": {
        "id": "ftvex07Ncq2r"
      },
      "source": [
        "import lime\n",
        "import sklearn\n",
        "import sklearn.ensemble\n",
        "import sklearn.metrics\n",
        "import pandas as pd\n",
        "import numpy as np"
      ],
      "execution_count": 7,
      "outputs": []
    },
    {
      "cell_type": "code",
      "metadata": {
        "colab": {
          "base_uri": "https://localhost:8080/"
        },
        "id": "Mh0LOR_K5ihU",
        "outputId": "e0235563-9fcf-4fe4-c7c0-8baf60eae07f"
      },
      "source": [
        "#I used the Youtube01 to do this task. You can change the name for the csv file to see the result with the other file.\n",
        "\n",
        "df=pd.read_csv('/content/gdrive/MyDrive/Colab Notebooks/csv/Youtube01-Psy.csv')\n",
        "\n",
        "df.head(5)\n",
        "# import and instantiate CountVectorizer (with the default parameters)\n",
        "from sklearn.feature_extraction.text import CountVectorizer\n",
        "vect = CountVectorizer()\n",
        "# This is to define the features and labels for the CountVectorizer\n",
        "X = df.CONTENT\n",
        "\n",
        "y = df.CLASS\n",
        "print(X.shape)\n",
        "print(y.shape)\n",
        "class_names = ['notSpam', 'Spam']\n",
        "from sklearn.model_selection import train_test_split\n",
        "X_train, X_test, y_train, y_test = train_test_split(X, y,  test_size=0.2)\n"
      ],
      "execution_count": 9,
      "outputs": [
        {
          "output_type": "stream",
          "text": [
            "(350,)\n",
            "(350,)\n"
          ],
          "name": "stdout"
        }
      ]
    },
    {
      "cell_type": "code",
      "metadata": {
        "id": "_R4NJyNFADwW"
      },
      "source": [
        "from sklearn.feature_extraction.text import CountVectorizer\n",
        "vector =CountVectorizer(analyzer='word',token_pattern=r'\\w+')\n",
        "vector.fit(list(X))\n",
        "X_converted=vector.fit_transform(X)\n",
        "X_train_converted = vector.transform(X_train)\n",
        "X_test_converted=vector.transform(X_test)\n",
        "\n"
      ],
      "execution_count": 10,
      "outputs": []
    },
    {
      "cell_type": "code",
      "metadata": {
        "id": "q2QyJtKbLwad"
      },
      "source": [
        "from sklearn.ensemble import RandomForestRegressor\n",
        "\n",
        "rf = sklearn.ensemble.RandomForestClassifier(n_estimators=500)\n",
        "#rf = RandomForestRegressor(n_estimators=20, random_state=0)\n",
        "rf.fit(X_train_converted, y_train)\n",
        "y_pred = rf.predict(X_test_converted)"
      ],
      "execution_count": 11,
      "outputs": []
    },
    {
      "cell_type": "code",
      "metadata": {
        "colab": {
          "base_uri": "https://localhost:8080/"
        },
        "id": "5JYmrgZUSlal",
        "outputId": "3d72a800-0722-43a1-ade5-133bc8676043"
      },
      "source": [
        "import sklearn \n",
        "print(sklearn.metrics.classification_report(np.rint(y_pred),y_test))"
      ],
      "execution_count": 12,
      "outputs": [
        {
          "output_type": "stream",
          "text": [
            "              precision    recall  f1-score   support\n",
            "\n",
            "         0.0       0.97      0.97      0.97        39\n",
            "         1.0       0.97      0.97      0.97        31\n",
            "\n",
            "    accuracy                           0.97        70\n",
            "   macro avg       0.97      0.97      0.97        70\n",
            "weighted avg       0.97      0.97      0.97        70\n",
            "\n"
          ],
          "name": "stdout"
        }
      ]
    },
    {
      "cell_type": "markdown",
      "metadata": {
        "id": "0LaNDlT0-fNT"
      },
      "source": [
        "#***Expression using lime***"
      ]
    },
    {
      "cell_type": "code",
      "metadata": {
        "id": "oqTVehZWTEop"
      },
      "source": [
        "from sklearn.pipeline import make_pipeline\n",
        "c = make_pipeline(vector, rf)"
      ],
      "execution_count": 13,
      "outputs": []
    },
    {
      "cell_type": "code",
      "metadata": {
        "colab": {
          "base_uri": "https://localhost:8080/"
        },
        "id": "hLV8Tca_0LcD",
        "outputId": "11915842-411f-4b1b-8c19-06274792b454"
      },
      "source": [
        "print(c.predict_proba([X[0]]))"
      ],
      "execution_count": 16,
      "outputs": [
        {
          "output_type": "stream",
          "text": [
            "[[0.114 0.886]]\n"
          ],
          "name": "stdout"
        }
      ]
    },
    {
      "cell_type": "code",
      "metadata": {
        "id": "VJgD9DFHZ-sl"
      },
      "source": [
        "from lime.lime_text import LimeTextExplainer\n",
        "explainer = LimeTextExplainer(class_names=class_names)"
      ],
      "execution_count": 17,
      "outputs": []
    },
    {
      "cell_type": "code",
      "metadata": {
        "colab": {
          "base_uri": "https://localhost:8080/"
        },
        "id": "wCnbGvSnvMRW",
        "outputId": "39e1326f-83d9-4ce7-9791-f1ba7f535993"
      },
      "source": [
        "idx = 7\n",
        "exp = explainer.explain_instance(X[idx], c.predict_proba, num_features=6)\n",
        "print('Document id: %d' % idx)\n",
        "print('Probability(Spam) =', c.predict_proba([X[idx]])[0, 1])\n",
        "print(X[idx])\n",
        "if(c.predict_proba([X[idx]])[0, 1] > 0.5):\n",
        "    print('True class: %s' % class_names[1])\n",
        "else:\n",
        "    print('True class: %s' % class_names[0])\n"
      ],
      "execution_count": 18,
      "outputs": [
        {
          "output_type": "stream",
          "text": [
            "Document id: 7\n",
            "Probability(Spam) = 0.04\n",
            "i turned it on mute as soon is i came on i just wanted to check the  views...﻿\n",
            "True class: notSpam\n"
          ],
          "name": "stdout"
        }
      ]
    },
    {
      "cell_type": "code",
      "metadata": {
        "colab": {
          "base_uri": "https://localhost:8080/"
        },
        "id": "hkuq2RN16DoE",
        "outputId": "bcfdd56b-5d89-4206-972f-9846f34870fa"
      },
      "source": [
        "exp.as_list()"
      ],
      "execution_count": 19,
      "outputs": [
        {
          "output_type": "execute_result",
          "data": {
            "text/plain": [
              "[('views', -0.09042466303614345),\n",
              " ('the', -0.06579851287304815),\n",
              " ('i', 0.04262639463169762),\n",
              " ('came', -0.039083895956556876),\n",
              " ('check', 0.034712108245585245),\n",
              " ('is', -0.03208087750402583)]"
            ]
          },
          "metadata": {
            "tags": []
          },
          "execution_count": 19
        }
      ]
    },
    {
      "cell_type": "code",
      "metadata": {
        "colab": {
          "base_uri": "https://localhost:8080/"
        },
        "id": "iUT4tN2n6IN_",
        "outputId": "4acf248f-c0ff-4358-e53e-71f4e9be290e"
      },
      "source": [
        "print('Original prediction:', rf.predict_proba(X_converted[idx])[0, 1])\n",
        "tmp = X_converted[idx].copy()\n",
        "tmp[0, vector.vocabulary_['views']] = 0\n",
        "tmp[0, vector.vocabulary_['the']] = 0\n",
        "print('Prediction removing some features:', rf.predict_proba(tmp)[0, 1])\n",
        "print('Difference:', rf.predict_proba(tmp)[0, 1] - rf.predict_proba(X_converted[idx])[0, 1])"
      ],
      "execution_count": 20,
      "outputs": [
        {
          "output_type": "stream",
          "text": [
            "Original prediction: 0.04\n",
            "Prediction removing some features: 0.214\n",
            "Difference: 0.174\n"
          ],
          "name": "stdout"
        }
      ]
    },
    {
      "cell_type": "markdown",
      "metadata": {
        "id": "9LdqgBKh-ptt"
      },
      "source": [
        "# ***Visualizing Explanations***"
      ]
    },
    {
      "cell_type": "code",
      "metadata": {
        "colab": {
          "base_uri": "https://localhost:8080/",
          "height": 281
        },
        "id": "RCHXeWv5-zPq",
        "outputId": "4e34467d-679f-4efe-826f-9ca667e40dda"
      },
      "source": [
        "%matplotlib inline\n",
        "fig = exp.as_pyplot_figure()"
      ],
      "execution_count": 22,
      "outputs": [
        {
          "output_type": "display_data",
          "data": {
            "image/png": "[encoded data removed]",
            "text/plain": [
              "<Figure size 432x288 with 1 Axes>"
            ]
          },
          "metadata": {
            "tags": [],
            "needs_background": "light"
          }
        }
      ]
    }
  ]
}